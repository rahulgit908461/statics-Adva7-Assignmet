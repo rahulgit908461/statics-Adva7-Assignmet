{
 "cells": [
  {
   "cell_type": "code",
   "execution_count": 1,
   "id": "e0fecb69-98c7-430e-a55b-a7d100dfc2c6",
   "metadata": {},
   "outputs": [],
   "source": [
    "#Q1. Write a Python function that takes in two arrays of data and calculates the F-value for a variance ratio\n",
    "#test. The function should return the F-value and the corresponding p-value for the test."
   ]
  },
  {
   "cell_type": "code",
   "execution_count": 5,
   "id": "4c2de7d1-8092-45bd-99a9-cdc704cf5daf",
   "metadata": {},
   "outputs": [],
   "source": [
    "import numpy as np"
   ]
  },
  {
   "cell_type": "code",
   "execution_count": null,
   "id": "098901b8-f0e5-4c25-90c5-b6e7c0725671",
   "metadata": {},
   "outputs": [],
   "source": [
    "# Suppose we have two varience is X1 & X2 Then "
   ]
  },
  {
   "cell_type": "code",
   "execution_count": 5,
   "id": "273d6bb4-e00b-476f-a2b9-6aeb4ff6d002",
   "metadata": {},
   "outputs": [],
   "source": [
    "# f_test=np.var(X1)/np.var(X2)"
   ]
  },
  {
   "cell_type": "code",
   "execution_count": 7,
   "id": "f18f84aa-d72f-4117-aca7-432e4bae6e15",
   "metadata": {},
   "outputs": [],
   "source": [
    "#Q2. Given a significance level of 0.05 and the degrees of freedom for the numerator and denominator of an\n",
    "#F-distribution, write a Python function that returns the critical F-value for a two-tailed test."
   ]
  },
  {
   "cell_type": "code",
   "execution_count": 8,
   "id": "e377ddb6-6338-4668-be44-1693db9998a1",
   "metadata": {},
   "outputs": [],
   "source": [
    "#Suppose we have two varience is X1 & X2 Then \n",
    "# f_test=np.var(X1)/np.var(X2) for F-value \n",
    "#critical_value=stat.f.ppf(q=1-significance_value,dfn=df1,dfd=df2) for critical -value\n"
   ]
  },
  {
   "cell_type": "code",
   "execution_count": 9,
   "id": "e5242aee-b2b0-495b-97d4-08ca802ab26b",
   "metadata": {},
   "outputs": [],
   "source": [
    "#Q3. Write a Python program that generates random samples from two normal distributions with known\n",
    "# variances and uses an F-test to determine if the variances are equal. The program should output the Fvalue,\n",
    "#degrees of freedom, and p-value for the test."
   ]
  },
  {
   "cell_type": "code",
   "execution_count": 10,
   "id": "dbfebbb5-6222-4327-ab4c-4a46d821f264",
   "metadata": {},
   "outputs": [],
   "source": [
    "#Suppose we have two varience is X1 & X2 Then \n",
    "# f_test=np.var(X1)/np.var(X2) for F-value \n",
    "#critical_value=stat.f.ppf(q=1-significance_value,dfn=df1,dfd=df2) for critical -value\n",
    "#stat.chisquare(expected_data,observed_data)"
   ]
  },
  {
   "cell_type": "code",
   "execution_count": 11,
   "id": "cf72c8bb-325e-476a-8189-5068b216c804",
   "metadata": {},
   "outputs": [],
   "source": [
    "#Q4.The variances of two populations are known to be 10 and 15. A sample of 12 observations is taken from\n",
    "#each population. Conduct an F-test at the 5% significance level to determine if the variances are\n",
    "#significantly different."
   ]
  },
  {
   "cell_type": "code",
   "execution_count": 1,
   "id": "ae25a6f2-2800-4433-9cdc-7011eb78dd8b",
   "metadata": {},
   "outputs": [],
   "source": [
    "# Here given two population variance S1 Square =10, S2 square =15, from each 12 sample  taken , SIgnificient =0.05, CI =0.95  \n",
    "# from each 12 sample from each population then F-Table critical Value =4.8443\n",
    "#F=S1 Square/S2 Square =10/15=0.666\n",
    "# here F value < critical Value then here we fail to reject the null hypothysis "
   ]
  },
  {
   "cell_type": "code",
   "execution_count": 2,
   "id": "a242c777-3967-437d-beb2-e8349473fcd3",
   "metadata": {},
   "outputs": [],
   "source": [
    "#Q5. A manufacturer claims that the variance of the diameter of a certain product is 0.005. A sample of 25\n",
    "#products is taken, and the sample variance is found to be 0.006. Conduct an F-test at the 1% significance\n",
    "#level to determine if the claim is justified."
   ]
  },
  {
   "cell_type": "code",
   "execution_count": 3,
   "id": "b629bbc1-01ba-4d3f-80a1-7ea088fe0710",
   "metadata": {},
   "outputs": [],
   "source": [
    "# certain product diametere variance is 0.005 , n=25 , \n",
    "# sample variance is =0.006, significient =0.01, CI =0.99 \n",
    "# Null hypothysis H0= Product varian = sample variance\n",
    "# alternate hypothysis H0= Product Variance not equal to sample varian \n",
    "# n=25 , then df1=24, and df2=24 , Significient value =0.01 then critical value By F-Table =2.659\n",
    "# by Static F value =0.005/0.006=0.8333 \n",
    "# here Fvalu< critical Value then we Fail to Reject the Null Hypothysis"
   ]
  },
  {
   "cell_type": "code",
   "execution_count": 4,
   "id": "0c04824a-f5e8-471b-95ea-52afddeb13ea",
   "metadata": {},
   "outputs": [],
   "source": [
    "#Q6. Write a Python function that takes in the degrees of freedom for the numerator and denominator of an\n",
    "#F-distribution and calculates the mean and variance of the distribution. The function should return the\n",
    "#mean and variance as a tuple."
   ]
  },
  {
   "cell_type": "code",
   "execution_count": 6,
   "id": "334bb61b-3cf7-409b-9855-6e921dd219f0",
   "metadata": {},
   "outputs": [],
   "source": [
    "#F_test=np.var(numerator)/np.var(denominator)\n",
    "#Mean=np.mean(numerator , denominator)"
   ]
  },
  {
   "cell_type": "code",
   "execution_count": 7,
   "id": "a307138a-315d-4196-af20-0a5909856d39",
   "metadata": {},
   "outputs": [],
   "source": [
    "#Q7. A random sample of 10 measurements is taken from a normal population with unknown variance. The\n",
    "#sample variance is found to be 25. Another random sample of 15 measurements is taken from another\n",
    "#normal population with unknown variance, and the sample variance is found to be 20. Conduct an F-test\n",
    "#at the 10% significance level to determine if the variances are significantly different"
   ]
  },
  {
   "cell_type": "code",
   "execution_count": 9,
   "id": "c2997125-df69-4e7d-b027-7dcb18fcd55d",
   "metadata": {},
   "outputs": [],
   "source": [
    "# given n1=10 df1=9, s1=25 ,n2=15 , df2=14, s2=20 , significient =0.1 , CI =0.90\n",
    "# null hypothysis H0 , s1=s2\n",
    "# alternate Hypothysis H1, s11 not equal to s2\n",
    "# Given df1=9 df2=14, significient=0.1 then by F-Table Critical Value =2.12195\n",
    "# By statics F=s1/s2=25/20=1.25 \n",
    "# so here we found F value < critical value then \n",
    "# We Fail to Reject the Null Hypothysis,"
   ]
  },
  {
   "cell_type": "code",
   "execution_count": 10,
   "id": "21ef8b15-ddd5-4ea9-b0b8-25f76889e493",
   "metadata": {},
   "outputs": [],
   "source": [
    "#Q8. The following data represent the waiting times in minutes at two different restaurants on a Saturday\n",
    "#night: Restaurant A: 24, 25, 28, 23, 22, 20, 27; Restaurant B: 31, 33, 35, 30, 32, 36. Conduct an F-test \n",
    "#at the 5% significance level to determine if the variances are significantly different."
   ]
  },
  {
   "cell_type": "code",
   "execution_count": 11,
   "id": "714febb4-5730-4ecb-8a62-202dcd8bb0a8",
   "metadata": {},
   "outputs": [],
   "source": [
    "A=[24, 25, 28, 23, 22, 20, 27]\n",
    "B=[31, 33, 35, 30, 32, 36]\n",
    "# significient Value = 0.05"
   ]
  },
  {
   "cell_type": "code",
   "execution_count": 12,
   "id": "3567c11a-e39a-45fd-aa1f-2b2c546d5bbb",
   "metadata": {},
   "outputs": [],
   "source": [
    "f_test=np.var(A)/np.var(B)"
   ]
  },
  {
   "cell_type": "code",
   "execution_count": 13,
   "id": "19e5af11-8ae7-457e-ac52-5899d125ef7d",
   "metadata": {},
   "outputs": [
    {
     "data": {
      "text/plain": [
       "1.496767651159843"
      ]
     },
     "execution_count": 13,
     "metadata": {},
     "output_type": "execute_result"
    }
   ],
   "source": [
    "f_test"
   ]
  },
  {
   "cell_type": "code",
   "execution_count": 18,
   "id": "37d3bce8-8f04-48f2-bd7d-d80197d9fc3c",
   "metadata": {},
   "outputs": [],
   "source": [
    "df1=len(A)-1\n",
    "df2=len(B)-1\n",
    "significance_value=0.05"
   ]
  },
  {
   "cell_type": "code",
   "execution_count": 15,
   "id": "eb835f1c-548b-4ae9-a1d8-71ebb78f8964",
   "metadata": {},
   "outputs": [
    {
     "data": {
      "text/plain": [
       "(6, 5)"
      ]
     },
     "execution_count": 15,
     "metadata": {},
     "output_type": "execute_result"
    }
   ],
   "source": [
    "df1, df2"
   ]
  },
  {
   "cell_type": "code",
   "execution_count": 16,
   "id": "689ae415-b81b-4b53-b3cc-d052d516fd55",
   "metadata": {},
   "outputs": [],
   "source": [
    "import scipy.stats as stat"
   ]
  },
  {
   "cell_type": "code",
   "execution_count": 19,
   "id": "6bf36571-890b-4eb8-9e1d-95c743d55582",
   "metadata": {},
   "outputs": [],
   "source": [
    "critical_value=stat.f.ppf(q=1-significance_value,dfn=df1,dfd=df2)"
   ]
  },
  {
   "cell_type": "code",
   "execution_count": 20,
   "id": "2e9231f2-0f42-4608-99fb-008d3d955bc1",
   "metadata": {},
   "outputs": [
    {
     "data": {
      "text/plain": [
       "4.950288068694318"
      ]
     },
     "execution_count": 20,
     "metadata": {},
     "output_type": "execute_result"
    }
   ],
   "source": [
    "critical_value"
   ]
  },
  {
   "cell_type": "code",
   "execution_count": 21,
   "id": "77d6e398-a7f5-4477-8a3a-02d513857a16",
   "metadata": {},
   "outputs": [
    {
     "name": "stdout",
     "output_type": "stream",
     "text": [
      "We Fairl to reject null hypothysis\n"
     ]
    }
   ],
   "source": [
    "if f_test<critical_value:\n",
    "    print('We Fairl to reject null hypothysis')\n",
    "else:\n",
    "    print('Reject null hypothysis')"
   ]
  },
  {
   "cell_type": "code",
   "execution_count": 22,
   "id": "09de213a-ba40-4dca-839d-0a64ef7e497c",
   "metadata": {},
   "outputs": [],
   "source": [
    "# So here Variance are not diffrence significiantly"
   ]
  },
  {
   "cell_type": "code",
   "execution_count": 23,
   "id": "d4987cd9-2ee7-4940-9e27-f9a9ab2c0fee",
   "metadata": {},
   "outputs": [],
   "source": [
    "#Q9. The following data represent the test scores of two groups of students: Group A: 80, 85, 90, 92, 87, 83;\n",
    "#Group B: 75, 78, 82, 79, 81, 84. Conduct an F-test at the 1% significance level to determine if the variances\n",
    "#are significantly different."
   ]
  },
  {
   "cell_type": "code",
   "execution_count": 25,
   "id": "9ef2f855-db89-4a0e-8277-174dc62154c3",
   "metadata": {},
   "outputs": [],
   "source": [
    "A=[80, 85, 90, 92, 87, 83]\n",
    "B= [75, 78, 82, 79, 81, 84]   \n",
    "significance_value=0.01"
   ]
  },
  {
   "cell_type": "code",
   "execution_count": 26,
   "id": "ed15b31a-1f88-49be-a16e-2af12ed147e1",
   "metadata": {},
   "outputs": [],
   "source": [
    "f_value=np.var(A)/np.var(B)"
   ]
  },
  {
   "cell_type": "code",
   "execution_count": 27,
   "id": "224d8ba3-de8f-4566-adf8-23135c7ef0d1",
   "metadata": {},
   "outputs": [
    {
     "data": {
      "text/plain": [
       "1.9442622950819677"
      ]
     },
     "execution_count": 27,
     "metadata": {},
     "output_type": "execute_result"
    }
   ],
   "source": [
    "f_value"
   ]
  },
  {
   "cell_type": "code",
   "execution_count": 28,
   "id": "6b626598-3cad-4b9b-ad6d-7763a04f20a4",
   "metadata": {},
   "outputs": [],
   "source": [
    "df1=len(A)\n",
    "df2=len(B)"
   ]
  },
  {
   "cell_type": "code",
   "execution_count": 30,
   "id": "d2d752cd-3664-489a-9981-a7d817e309fe",
   "metadata": {},
   "outputs": [
    {
     "data": {
      "text/plain": [
       "(6, 6)"
      ]
     },
     "execution_count": 30,
     "metadata": {},
     "output_type": "execute_result"
    }
   ],
   "source": [
    "df1, df2"
   ]
  },
  {
   "cell_type": "code",
   "execution_count": 31,
   "id": "a092ed2d-b0f7-40eb-99c0-0fb696c75aa8",
   "metadata": {},
   "outputs": [],
   "source": [
    "critical_value=stat.f.ppf(q=1-significance_value,dfn=df1, dfd=df2)"
   ]
  },
  {
   "cell_type": "code",
   "execution_count": 32,
   "id": "817de1b8-4dc3-4dc0-b256-f871cf30f184",
   "metadata": {},
   "outputs": [
    {
     "data": {
      "text/plain": [
       "8.466125340476895"
      ]
     },
     "execution_count": 32,
     "metadata": {},
     "output_type": "execute_result"
    }
   ],
   "source": [
    "critical_value"
   ]
  },
  {
   "cell_type": "code",
   "execution_count": 33,
   "id": "30a926a4-6158-4ebc-a943-2537e209dcd0",
   "metadata": {},
   "outputs": [
    {
     "name": "stdout",
     "output_type": "stream",
     "text": [
      "We Fail to Reject the Null  Hypothysis\n"
     ]
    }
   ],
   "source": [
    "if f_test<critical_value:\n",
    "    print('We Fail to Reject the Null  Hypothysis')\n",
    "else:\n",
    "    print('Reject the Null Hypothysis')"
   ]
  },
  {
   "cell_type": "code",
   "execution_count": 34,
   "id": "040a5cf0-0251-4e79-b970-51a5a95d7081",
   "metadata": {},
   "outputs": [],
   "source": [
    "# So by 1% of Significance Level to variance are not diffrent"
   ]
  },
  {
   "cell_type": "code",
   "execution_count": null,
   "id": "694a4b74-724e-42e4-aa7b-8a1bf3e8dc67",
   "metadata": {},
   "outputs": [],
   "source": []
  }
 ],
 "metadata": {
  "kernelspec": {
   "display_name": "Python 3 (ipykernel)",
   "language": "python",
   "name": "python3"
  },
  "language_info": {
   "codemirror_mode": {
    "name": "ipython",
    "version": 3
   },
   "file_extension": ".py",
   "mimetype": "text/x-python",
   "name": "python",
   "nbconvert_exporter": "python",
   "pygments_lexer": "ipython3",
   "version": "3.10.8"
  }
 },
 "nbformat": 4,
 "nbformat_minor": 5
}
